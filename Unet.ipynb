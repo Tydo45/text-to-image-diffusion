{
 "cells": [
  {
   "cell_type": "code",
   "execution_count": 1,
   "metadata": {},
   "outputs": [],
   "source": [
    "from keras.models import Model\n",
    "import tensorflow as tf\n",
    "import matplotlib.pyplot as plt\n",
    "import numpy as np"
   ]
  },
  {
   "cell_type": "code",
   "execution_count": 2,
   "metadata": {},
   "outputs": [],
   "source": [
    "classes = ['Test1', 'Test2', 'Test3', 'Test4', 'Test5']"
   ]
  },
  {
   "cell_type": "code",
   "execution_count": 3,
   "metadata": {},
   "outputs": [],
   "source": [
    "image_shape = (572, 572, 1)\n",
    "\n",
    "noise = 0.1"
   ]
  },
  {
   "cell_type": "code",
   "execution_count": null,
   "metadata": {},
   "outputs": [],
   "source": [
    "x = tf.keras.layers.Input(shape=image_shape); y=x                              # 572x572x1\n",
    "x = tf.keras.layers.RepeatVector(3)(x)                                         # 572x572x3\n",
    "\n",
    "y = tf.keras.layers.GaussianNoise(noise)(y)                                    # 572x572x3\n",
    "y = tf.keras.layers.Conv2D(filters=64, kernel_size=(3,3), padding='valid')(y)  # 570x570x64\n",
    "y = tf.keras.layers.Conv2D(filters=64, kernel_size=(3,3), padding='valid')(y)  # 568x568x64\n",
    "skip1 = y                                                                      # 568x568x64\n",
    "y = tf.keras.layers.MaxPooling2D(2)(y)                                         # 284x284x64\n",
    "y = tf.keras.layers.Conv2D(128, 3, activation='relu')(y)                       # 282x282x128\n",
    "y = tf.keras.layers.Conv2D(128, 3, activation='relu')(y)                       # 280x280x128\n",
    "skip2 = y                                                                      # 280x280x128\n",
    "y = tf.keras.layers.MaxPooling2D(2)(y)                                         # 140x140x128\n",
    "y = tf.keras.layers.Conv2D(256, 3, activation='relu')(y)                       # 138x138x256\n",
    "y = tf.keras.layers.Conv2D(256, 3, activation='relu')(y)                       # 136x136x256\n",
    "skip3 = y                                                                      # 136x136x256\n",
    "y = tf.keras.layers.MaxPooling2D(2)(y)                                         # 68x68x256\n",
    "y = tf.keras.layers.Conv2D(512, 3, activation='relu')(y)                       # 66x66x512\n",
    "y = tf.keras.layers.Conv2D(512, 3, activation='relu')(y)                       # 64x64x512\n",
    "skip4 = y                                                                      # 64x64x512\n",
    "y = tf.keras.layers.MaxPooling2D(2)(y)                                         # 32x32x512   \n",
    "y = tf.keras.layers.Conv2D(1024, 3, activation='relu')(y)                      # 30x30x1024\n",
    "y = tf.keras.layers.Conv2D(1024, 3, activation='relu')(y)                      # 28x28x1024\n",
    "y = tf.keras.layers.Conv2DTranspose(512, 2, strides=2, activation='relu')(y)   # 56x56x512\n",
    "skip4 = tf.keras.layers.Cropping2D(cropping=((4,4),(4,4)))(skip4)              # 56x56x512\n",
    "y = tf.keras.layers.Add()([y, skip4])\n",
    "y = tf.keras.layers.Conv2D(512, 3, activation='relu')(y)                       # 54x54x512\n",
    "y = tf.keras.layers.Conv2D(512, 3, activation='relu')(y)                       # 52x52x512\n",
    "y = tf.keras.layers.Conv2DTranspose(256, 2, strides=2, activation='relu')(y)   # 104x104x256\n",
    "skip3 = tf.keras.layers.Cropping2D(cropping=((16,16),(16,16)))(skip3)          # 104x104x256\n",
    "y = tf.keras.layers.Add()([y, skip3])\n",
    "y = tf.keras.layers.Conv2D(256, 3, activation='relu')(y)                       # 102x102x256\n",
    "y = tf.keras.layers.Conv2D(256, 3, activation='relu')(y)                       # 100x100x256\n",
    "y = tf.keras.layers.Conv2DTranspose(128, 2, strides=2, activation='relu')(y)   # 200x200x128\n",
    "skip2 = tf.keras.layers.Cropping2D(cropping=((40,40),(40,40)))(skip2)          # 200x200x128\n",
    "y = tf.keras.layers.Add()([y, skip2])\n",
    "y = tf.keras.layers.Conv2D(128, 3, activation='relu')(y)                       # 198x198x128\n",
    "y = tf.keras.layers.Conv2D(128, 3, activation='relu')(y)                       # 196x196x128\n",
    "y = tf.keras.layers.Conv2DTranspose(64, 2, strides=2, activation='relu')(y)    # 392x392x64\n",
    "skip1 = tf.keras.layers.Cropping2D(cropping=((88,88),(88,88)))(skip1)          # 392x392x64\n",
    "y = tf.keras.layers.Add()([y, skip1])\n",
    "y = tf.keras.layers.Conv2D(64, 3, activation='relu')(y)                        # 390x390x64\n",
    "y = tf.keras.layers.Conv2D(64, 3, activation='relu')(y)                        # 388x388x64\n",
    "y = tf.keras.layers.Conv2D(3, 1, activation='sigmoid')(y)                      # 388x388x3\n",
    "model = Model(inputs=x, outputs=y)"
   ]
  },
  {
   "cell_type": "code",
   "execution_count": null,
   "metadata": {},
   "outputs": [],
   "source": [
    "epochs = 10\n",
    "batch_size = 1"
   ]
  },
  {
   "cell_type": "code",
   "execution_count": null,
   "metadata": {},
   "outputs": [],
   "source": [
    "# x_train = np.random.randint(0, 255, (100, 572, 572, 3))\n",
    "# x_test = np.random.randint(0, 255, (100, 572, 572, 3))\n",
    "# y_train = np.random.randint(0, 255, (100, 388, 388, 3))\n",
    "# y_test = np.random.randint(0, 255, (100, 388, 388, 3))\n",
    "\n",
    "# x_train = x_train / 255\n",
    "# x_test = x_test / 255\n",
    "# y_train = y_train / 255\n",
    "# y_test = y_test / 255\n",
    "\n",
    "# model.compile(optimizer=tf.keras.optimizers.Adam(), loss=[tf.keras.losses.mse, tf.keras.losses.categorical_crossentropy])\n",
    "# model.fit(x_train, y_train, epochs=epochs, batch_size=batch_size, validation_data=(x_test, y_test))"
   ]
  },
  {
   "cell_type": "code",
   "execution_count": null,
   "metadata": {},
   "outputs": [],
   "source": [
    "image = x_test.squeeze()\n",
    "plt.imshow(image)\n",
    "plt.show()\n",
    "image = y_test.squeeze()\n",
    "plt.imshow(image)\n",
    "plt.show()"
   ]
  },
  {
   "cell_type": "code",
   "execution_count": null,
   "metadata": {},
   "outputs": [],
   "source": [
    "image = np.random.randint(0, 255, (1, 572, 572, 3))\n",
    "image = model.predict(image)\n",
    "image = image.squeeze()\n",
    "plt.imshow(image)\n",
    "plt.axis('off')\n",
    "plt.show()"
   ]
  },
  {
   "cell_type": "code",
   "execution_count": null,
   "metadata": {},
   "outputs": [],
   "source": [
    "test = tf.random.uniform(shape=shape, minval=0, maxval=255, dtype=tf.int32)\n",
    "plt.imshow(test)\n",
    "plt.axis('off')\n",
    "plt.show()"
   ]
  }
 ],
 "metadata": {
  "kernelspec": {
   "display_name": "Python 3",
   "language": "python",
   "name": "python3"
  },
  "language_info": {
   "codemirror_mode": {
    "name": "ipython",
    "version": 3
   },
   "file_extension": ".py",
   "mimetype": "text/x-python",
   "name": "python",
   "nbconvert_exporter": "python",
   "pygments_lexer": "ipython3",
   "version": "3.10.7"
  }
 },
 "nbformat": 4,
 "nbformat_minor": 2
}
